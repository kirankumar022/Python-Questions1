{
 "cells": [
  {
   "cell_type": "markdown",
   "metadata": {},
   "source": [
    "# module 5 python assignment"
   ]
  },
  {
   "cell_type": "markdown",
   "metadata": {},
   "source": [
    "1.Take a variable age which is of positive value and check the following:\n",
    "a.If age is less than 10, print “Children”.\n",
    "b.If age is more than 60, print ‘senior citizens’\n",
    "c. If it is in between 10 and 60, print ‘normal citizen’"
   ]
  },
  {
   "cell_type": "code",
   "execution_count": 1,
   "metadata": {},
   "outputs": [
    {
     "name": "stdout",
     "output_type": "stream",
     "text": [
      "please enter the age: 25\n",
      "Normal citizen\n"
     ]
    }
   ],
   "source": [
    "age=int(input(\"please enter the age: \"))\n",
    "\n",
    "while age>0:\n",
    "    if age<10:\n",
    "        print('children')\n",
    "        break\n",
    "    elif age>60:\n",
    "        print('Senoir citizen')\n",
    "        break\n",
    "    else:\n",
    "        print('Normal citizen')\n",
    "        break"
   ]
  },
  {
   "cell_type": "markdown",
   "metadata": {},
   "source": [
    "2.\tFind the final train ticket price with the following conditions. \n",
    "a.\tIf male and senior citizen, 70% of fare is applicable\n",
    "b.\tIf female and senior citizen, 50% of fare is applicable.\n",
    "c.\tIf female and normal citizen, 70% of fare is applicable\n",
    "d.\tIf male and normal citizen, 100% of fare is applicable\n",
    "[Hint: First check for the gender, then calculate the fare based on age factor. For both Male and Female, consider them as senior citizens if their age >=60]\n"
   ]
  },
  {
   "cell_type": "code",
   "execution_count": 1,
   "metadata": {},
   "outputs": [
    {
     "name": "stdout",
     "output_type": "stream",
     "text": [
      "Enter the gender: MALE\n",
      "Enter the age: 34\n",
      "100% fare is applicable\n",
      "500\n"
     ]
    }
   ],
   "source": [
    "gender=input(\"Enter the gender: \")\n",
    "age=int(input('Enter the age: '))\n",
    "fare=500\n",
    "k=gender.lower()\n",
    "if k=='male':\n",
    "    if age>=60:\n",
    "        print('70% of fare is applicable:')\n",
    "        print(fare*70/100)\n",
    "    else:\n",
    "            print('100% fare is applicable')\n",
    "            print(fare)\n",
    "if k=='female':\n",
    "    if age>=60:\n",
    "        print('50% of fare is applicable')\n",
    "        print(fare*50/100)\n",
    "    else:\n",
    "        print('70% of fare is applicable')\n",
    "        print(fare*70/100)\n",
    "        \n",
    "        "
   ]
  },
  {
   "cell_type": "markdown",
   "metadata": {},
   "source": [
    "3.\tCheck whether the given number is positive and divisible by 5 or not. "
   ]
  },
  {
   "cell_type": "code",
   "execution_count": 8,
   "metadata": {},
   "outputs": [
    {
     "name": "stdout",
     "output_type": "stream",
     "text": [
      "Enter the number: 27\n",
      "No the number is not divisible by 5\n"
     ]
    }
   ],
   "source": [
    "number=int(input(\"Enter the number: \"))\n",
    "while number>0:\n",
    "    if number%5==0:\n",
    "        print('Yes the number is divisible by 5')\n",
    "        break\n",
    "    else:\n",
    "        print(\"No the number is not divisible by 5\")\n",
    "    break"
   ]
  },
  {
   "cell_type": "code",
   "execution_count": null,
   "metadata": {},
   "outputs": [],
   "source": []
  }
 ],
 "metadata": {
  "kernelspec": {
   "display_name": "Python 3",
   "language": "python",
   "name": "python3"
  },
  "language_info": {
   "codemirror_mode": {
    "name": "ipython",
    "version": 3
   },
   "file_extension": ".py",
   "mimetype": "text/x-python",
   "name": "python",
   "nbconvert_exporter": "python",
   "pygments_lexer": "ipython3",
   "version": "3.7.6"
  }
 },
 "nbformat": 4,
 "nbformat_minor": 4
}
