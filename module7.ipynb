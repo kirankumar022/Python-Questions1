{
 "cells": [
  {
   "cell_type": "markdown",
   "metadata": {},
   "source": [
    "1.\tPrint the Palindromes (reverse of the number is itself) that are present in between 100 and 250. (Ex: 121,131,212,222... etc.)"
   ]
  },
  {
   "cell_type": "code",
   "execution_count": 32,
   "metadata": {},
   "outputs": [
    {
     "name": "stdout",
     "output_type": "stream",
     "text": [
      "Palindrome Numbers between 100 and 250 are : \n",
      "101 111 121 131 141 151 161 171 181 191 202 212 222 232 242 "
     ]
    }
   ],
   "source": [
    "max=250\n",
    "min=100\n",
    "\n",
    "\n",
    "print(\"Palindrome Numbers between %d and %d are : \" %(minimum, maximum))\n",
    "for i in range(min,max+1):\n",
    "    temp=i\n",
    "    reverse=0\n",
    "    \n",
    "    while(temp>0):\n",
    "        reminder=temp%10\n",
    "        reverse=(reverse*10)+reminder\n",
    "        temp=temp//10\n",
    "        \n",
    "        if(i==reverse):\n",
    "            print('%d'%i,end=' ')\n",
    "    "
   ]
  },
  {
   "cell_type": "markdown",
   "metadata": {},
   "source": [
    "2.\t Consider a list1 [3,4,5,6,7,8]. Create a new list2 such that Add 10 to the even number and multiply with 5 if it is odd number in the list1."
   ]
  },
  {
   "cell_type": "code",
   "execution_count": 36,
   "metadata": {},
   "outputs": [],
   "source": [
    "list1=[3,4,5,6,7,8]"
   ]
  },
  {
   "cell_type": "code",
   "execution_count": 53,
   "metadata": {},
   "outputs": [],
   "source": [
    "list2=[]"
   ]
  },
  {
   "cell_type": "code",
   "execution_count": 56,
   "metadata": {},
   "outputs": [
    {
     "name": "stdout",
     "output_type": "stream",
     "text": [
      "[15, 14, 25, 16, 35, 18]\n"
     ]
    }
   ],
   "source": [
    "for i in list1:\n",
    "    if i%2==0:\n",
    "        i+=10\n",
    "        list2.append(i)\n",
    "    else:\n",
    "        i=i*5\n",
    "        list2.append(i)\n",
    "print(list2)        \n",
    "            "
   ]
  },
  {
   "cell_type": "code",
   "execution_count": 57,
   "metadata": {},
   "outputs": [
    {
     "data": {
      "text/plain": [
       "[15, 14, 25, 16, 35, 18]"
      ]
     },
     "execution_count": 57,
     "metadata": {},
     "output_type": "execute_result"
    }
   ],
   "source": [
    "list2"
   ]
  },
  {
   "cell_type": "code",
   "execution_count": 60,
   "metadata": {},
   "outputs": [],
   "source": [
    "list3=[-5,7,-4,-2,10]"
   ]
  },
  {
   "cell_type": "code",
   "execution_count": 68,
   "metadata": {},
   "outputs": [],
   "source": [
    "def posfunc(i):\n",
    "    if i>0:\n",
    "        return (i)\n",
    "    \n",
    "    posfunction(list3)\n",
    "    \n",
    " "
   ]
  },
  {
   "cell_type": "code",
   "execution_count": 59,
   "metadata": {},
   "outputs": [
    {
     "data": {
      "text/plain": [
       "[15, 14, 25, 16, 35, 18]"
      ]
     },
     "execution_count": 59,
     "metadata": {},
     "output_type": "execute_result"
    }
   ],
   "source": [
    "list2\n"
   ]
  },
  {
   "cell_type": "markdown",
   "metadata": {},
   "source": [
    "\n",
    "3.\tConsider a list [2,3,4,5,6]. Find the total sum of cumulative products of all the numbers in the list. (sum= 2*3 + 2*3*4 +....)\n"
   ]
  },
  {
   "cell_type": "code",
   "execution_count": 1,
   "metadata": {},
   "outputs": [
    {
     "name": "stdout",
     "output_type": "stream",
     "text": [
      "2\n",
      "8\n",
      "32\n",
      "152\n",
      "872\n"
     ]
    }
   ],
   "source": [
    "list=[2,3,4,5,6]\n",
    "prod=1\n",
    "sum=0\n",
    "for i in list:\n",
    "    \n",
    "    while (i>0):\n",
    "        prod=prod*(i%10)\n",
    "        i=i//10\n",
    "        sum=sum+prod\n",
    "        \n",
    "        print(sum)\n",
    "    "
   ]
  },
  {
   "cell_type": "code",
   "execution_count": null,
   "metadata": {},
   "outputs": [],
   "source": []
  }
 ],
 "metadata": {
  "kernelspec": {
   "display_name": "Python 3",
   "language": "python",
   "name": "python3"
  },
  "language_info": {
   "codemirror_mode": {
    "name": "ipython",
    "version": 3
   },
   "file_extension": ".py",
   "mimetype": "text/x-python",
   "name": "python",
   "nbconvert_exporter": "python",
   "pygments_lexer": "ipython3",
   "version": "3.7.6"
  }
 },
 "nbformat": 4,
 "nbformat_minor": 4
}
