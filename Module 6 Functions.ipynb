{
 "cells": [
  {
   "cell_type": "markdown",
   "metadata": {},
   "source": [
    "1.A) Find the magnitude of (3+5j)\n",
    "B) list1 = [1,5.5, (10+20j),’data science’].. Print default functions and parameters exists in list1.\n",
    "C) How do we create a sequence of numbers in Python.\n",
    "D)  Read the input from keyboard and print a sequence of numbers up to that number.\n"
   ]
  },
  {
   "cell_type": "code",
   "execution_count": 2,
   "metadata": {},
   "outputs": [
    {
     "data": {
      "text/plain": [
       "5.830951894845301"
      ]
     },
     "execution_count": 2,
     "metadata": {},
     "output_type": "execute_result"
    }
   ],
   "source": [
    "#a magnitude of a complex number\n",
    "c=(3+5j)\n",
    "abs(c)"
   ]
  },
  {
   "cell_type": "code",
   "execution_count": 3,
   "metadata": {},
   "outputs": [],
   "source": [
    "#b "
   ]
  },
  {
   "cell_type": "code",
   "execution_count": 9,
   "metadata": {},
   "outputs": [
    {
     "data": {
      "text/plain": [
       "(16.5+20j)"
      ]
     },
     "execution_count": 9,
     "metadata": {},
     "output_type": "execute_result"
    }
   ],
   "source": [
    "def func_args(integer1, float2, integer3):\n",
    "    result = integer1 +float2 +integer3\n",
    "    return result\n",
    "func_args(1,5.5, (10+20j))"
   ]
  },
  {
   "cell_type": "code",
   "execution_count": 5,
   "metadata": {},
   "outputs": [
    {
     "name": "stdout",
     "output_type": "stream",
     "text": [
      "1\n",
      "2\n",
      "3\n",
      "4\n",
      "5\n",
      "6\n",
      "7\n",
      "8\n",
      "9\n"
     ]
    }
   ],
   "source": [
    "#c sequence of numbers\n",
    "for i in range (1,10):\n",
    "    print(i)\n",
    "    i+=1"
   ]
  },
  {
   "cell_type": "code",
   "execution_count": 10,
   "metadata": {},
   "outputs": [
    {
     "name": "stdout",
     "output_type": "stream",
     "text": [
      "Enter the range: 8\n",
      "0\n",
      "1\n",
      "2\n",
      "3\n",
      "4\n",
      "5\n",
      "6\n",
      "7\n",
      "8\n"
     ]
    }
   ],
   "source": [
    "\n",
    "i=int(input('Enter the range: ' ))\n",
    "\n",
    "for i in range(0,i+1):\n",
    "    print(i)\n",
    "    i+=1\n",
    "    \n",
    "    \n",
    "\n",
    "       "
   ]
  },
  {
   "cell_type": "markdown",
   "metadata": {},
   "source": [
    "       2. Write a simple user defined function that greets a person in such a way that:\n",
    "             i) It should accept both name of person and message you want to deliver.\n",
    "              ii) If no message is provided, it should greet a default message ‘How are you’\n",
    "           Ex: Hello ---xxxx---, How are you - default message.\n",
    "            Ex: Hello ---xxxx---, --xx your message xx---\n"
   ]
  },
  {
   "cell_type": "code",
   "execution_count": 3,
   "metadata": {},
   "outputs": [
    {
     "name": "stdout",
     "output_type": "stream",
     "text": [
      "Enter your name: kiran\n",
      "Enter some greetings: evening\n",
      "Hello kiran evening\n"
     ]
    }
   ],
   "source": [
    "def message(name,greeting):\n",
    "    name=input('Enter your name: ')\n",
    "    greetings=input('Enter some greetings: ')\n",
    "    if greetings=='':\n",
    "        print('Hello',name,'How are u')\n",
    "    else:\n",
    "        print('Hello',name,greetings)\n",
    "        \n",
    "message('','')"
   ]
  },
  {
   "cell_type": "markdown",
   "metadata": {},
   "source": [
    " 3.By using a filter function, find positive number present in a list.\n",
    "         Lsit1= [2, 6, -5, 4, -8, -9, 10, 1]\n"
   ]
  },
  {
   "cell_type": "code",
   "execution_count": 6,
   "metadata": {},
   "outputs": [
    {
     "name": "stdout",
     "output_type": "stream",
     "text": [
      "The numbers in the list are = [2, 6, -5, 4, -8, -9, 10, 1]\n",
      "The positive numbers are: [2, 6, 4, 10, 1]\n"
     ]
    }
   ],
   "source": [
    "lst= [2, 6, -5, 4, -8, -9, 10, 1]\n",
    "print('The numbers in the list are =',lst)\n",
    "positive_num=list(filter(lambda x: x>0,lst))\n",
    "print('The positive numbers are:',positive_num)\n"
   ]
  },
  {
   "cell_type": "code",
   "execution_count": null,
   "metadata": {},
   "outputs": [],
   "source": [
    "filter(lst)"
   ]
  },
  {
   "cell_type": "code",
   "execution_count": null,
   "metadata": {},
   "outputs": [],
   "source": []
  }
 ],
 "metadata": {
  "kernelspec": {
   "display_name": "Python 3",
   "language": "python",
   "name": "python3"
  },
  "language_info": {
   "codemirror_mode": {
    "name": "ipython",
    "version": 3
   },
   "file_extension": ".py",
   "mimetype": "text/x-python",
   "name": "python",
   "nbconvert_exporter": "python",
   "pygments_lexer": "ipython3",
   "version": "3.7.6"
  }
 },
 "nbformat": 4,
 "nbformat_minor": 4
}
