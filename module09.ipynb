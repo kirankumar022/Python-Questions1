{
 "cells": [
  {
   "cell_type": "markdown",
   "metadata": {},
   "source": [
    "# Assignment 09 python"
   ]
  },
  {
   "cell_type": "markdown",
   "metadata": {},
   "source": [
    "# 1.\tConstruct a class which takes in 3 arguments—first name, last name and age. And create an instance of that class"
   ]
  },
  {
   "cell_type": "code",
   "execution_count": 6,
   "metadata": {},
   "outputs": [
    {
     "name": "stdout",
     "output_type": "stream",
     "text": [
      "Y.kirankumar (19)\n"
     ]
    }
   ],
   "source": [
    "class Fullname:\n",
    "    def __init__(self,first,middle,last,fullname,age):\n",
    "        self.first=first\n",
    "        self.middle=middle\n",
    "        self.last=last\n",
    "        self.fullname=first+'.'+middle+last+age\n",
    "        self.age=age\n",
    "\n",
    "Fname_1=Fullname('Y','kiran','kumar','',' (19)')\n",
    "print(Fname_1.fullname)\n",
    "        "
   ]
  },
  {
   "cell_type": "markdown",
   "metadata": {},
   "source": [
    "# 2.\tConstruct an example for Inheritance."
   ]
  },
  {
   "cell_type": "code",
   "execution_count": 21,
   "metadata": {},
   "outputs": [
    {
     "name": "stdout",
     "output_type": "stream",
     "text": [
      "dog barking\n",
      "Animal Speaking\n"
     ]
    }
   ],
   "source": [
    "class Animal:  \n",
    "    def speak(self):  \n",
    "        print(\"Animal Speaking\")  \n",
    "#child class Dog inherits the base class Animal  \n",
    "class Dog(Animal):  \n",
    "    def bark(self):  \n",
    "        print(\"dog barking\")  \n",
    "d = Dog()  \n",
    "d.bark()  \n",
    "d.speak() "
   ]
  },
  {
   "cell_type": "code",
   "execution_count": 22,
   "metadata": {},
   "outputs": [
    {
     "name": "stdout",
     "output_type": "stream",
     "text": [
      "dog barking\n",
      "Animal Speaking\n",
      "Eating bread...\n"
     ]
    }
   ],
   "source": [
    "class Animal:  \n",
    "    def speak(self):  \n",
    "        print(\"Animal Speaking\")  \n",
    "#The child class Dog inherits the base class Animal  \n",
    "class Dog(Animal):  \n",
    "    def bark(self):  \n",
    "        print(\"dog barking\")  \n",
    "#The child class Dogchild inherits another child class Dog  \n",
    "class DogChild(Dog):  \n",
    "    def eat(self):  \n",
    "        print(\"Eating bread...\")  \n",
    "d = DogChild()  \n",
    "d.bark()  \n",
    "d.speak()  \n",
    "d.eat()  "
   ]
  },
  {
   "cell_type": "markdown",
   "metadata": {},
   "source": [
    "# 3.\tExplain Polymorphism in Python? Construct an example for Polymorphism."
   ]
  },
  {
   "cell_type": "markdown",
   "metadata": {},
   "source": [
    "What is Polymorphism ??\n",
    " ANSWER: Polymorphism means that different types respond to the same function.\n",
    "       Polymorphism is very useful as it makes programming more intuitive and therefore easier."
   ]
  },
  {
   "cell_type": "code",
   "execution_count": 23,
   "metadata": {},
   "outputs": [
    {
     "name": "stdout",
     "output_type": "stream",
     "text": [
      "Most of the animals are omnivores  but some are herbivores.\n",
      "bears are omnivores.\n",
      "deers are herbivores\n"
     ]
    }
   ],
   "source": [
    "\n",
    "# EXAMPLE FOR POLYMORPHISM\n",
    "class Animal: \n",
    "    def intro(self):\n",
    "        print(\"There are many types of animals.\") \n",
    "\n",
    "    def food(self): \n",
    "        print(\"Most of the animals are omnivores  but some are herbivores.\") \n",
    "class bear(Animal): \n",
    "    def food(self): \n",
    "        print(\"bears are omnivores.\") \n",
    "\n",
    "class deer(Animal): \n",
    "    def food(self):\n",
    "        print(\"deers are herbivores\") \n",
    "        \n",
    "# different classses implimenting same method\n",
    "# Creating instances of respective classes\n",
    "obj_animal = Animal() \n",
    "obj_bear = bear() \n",
    "obj_deer = deer() \n",
    "\n",
    "obj_animal.food()         \n",
    "obj_bear.food()\n",
    "obj_deer.food()\n"
   ]
  },
  {
   "cell_type": "code",
   "execution_count": null,
   "metadata": {},
   "outputs": [],
   "source": []
  }
 ],
 "metadata": {
  "kernelspec": {
   "display_name": "Python 3",
   "language": "python",
   "name": "python3"
  },
  "language_info": {
   "codemirror_mode": {
    "name": "ipython",
    "version": 3
   },
   "file_extension": ".py",
   "mimetype": "text/x-python",
   "name": "python",
   "nbconvert_exporter": "python",
   "pygments_lexer": "ipython3",
   "version": "3.7.6"
  }
 },
 "nbformat": 4,
 "nbformat_minor": 4
}
