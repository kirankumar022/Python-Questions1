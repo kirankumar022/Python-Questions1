{
 "cells": [
  {
   "cell_type": "markdown",
   "metadata": {},
   "source": [
    "# Module 4 assignment python\n"
   ]
  },
  {
   "cell_type": "markdown",
   "metadata": {},
   "source": [
    "1.\tWhat will be the output of the following (can/cannot)?"
   ]
  },
  {
   "cell_type": "code",
   "execution_count": 46,
   "metadata": {},
   "outputs": [],
   "source": [
    "Age1=5 #true"
   ]
  },
  {
   "cell_type": "code",
   "execution_count": 47,
   "metadata": {},
   "outputs": [
    {
     "ename": "SyntaxError",
     "evalue": "invalid syntax (<ipython-input-47-c7512ceb824b>, line 1)",
     "output_type": "error",
     "traceback": [
      "\u001b[1;36m  File \u001b[1;32m\"<ipython-input-47-c7512ceb824b>\"\u001b[1;36m, line \u001b[1;32m1\u001b[0m\n\u001b[1;33m    5age=55\u001b[0m\n\u001b[1;37m       ^\u001b[0m\n\u001b[1;31mSyntaxError\u001b[0m\u001b[1;31m:\u001b[0m invalid syntax\n"
     ]
    }
   ],
   "source": [
    "5age=55 #false, #we cannot ececute this #cannot"
   ]
  },
  {
   "cell_type": "code",
   "execution_count": 48,
   "metadata": {},
   "outputs": [],
   "source": [
    "Age_1=100 #true"
   ]
  },
  {
   "cell_type": "code",
   "execution_count": 49,
   "metadata": {},
   "outputs": [
    {
     "ename": "SyntaxError",
     "evalue": "can't assign to operator (<ipython-input-49-6312fcefef89>, line 1)",
     "output_type": "error",
     "traceback": [
      "\u001b[1;36m  File \u001b[1;32m\"<ipython-input-49-6312fcefef89>\"\u001b[1;36m, line \u001b[1;32m1\u001b[0m\n\u001b[1;33m    age@1=100\u001b[0m\n\u001b[1;37m             ^\u001b[0m\n\u001b[1;31mSyntaxError\u001b[0m\u001b[1;31m:\u001b[0m can't assign to operator\n"
     ]
    }
   ],
   "source": [
    "age@1=100 #false, #we cannot ececute this #cannot"
   ]
  },
  {
   "cell_type": "markdown",
   "metadata": {},
   "source": [
    "2) ANSWERS\n",
    "\n",
    "\n",
    "(A)\n",
    "The try: block lets you test a block of code for errors.\n",
    "\n",
    "The except: block lets you handle the error.\n",
    "\n",
    "The finally: block lets you execute code, regardless of the result of the try- and except blocks.\n",
    "\n",
    "\n",
    "\n",
    "\n",
    "(B)\n",
    "raise nex_exc from original_exc \n"
   ]
  },
  {
   "cell_type": "markdown",
   "metadata": {},
   "source": [
    "3.\tUsing Exception handling, write a program to find a reciprocal of the number in a such a way that.\n",
    "a.\tIf reciprocal exists, it should print reciprocal of that number (take any integer) \n",
    "b.\tIf reciprocal does not exist, it should print “reciprocal cannot be found” along with the type of error. (take 0).\n"
   ]
  },
  {
   "cell_type": "code",
   "execution_count": 2,
   "metadata": {},
   "outputs": [
    {
     "name": "stdout",
     "output_type": "stream",
     "text": [
      "enter a integer:14\n",
      "The reciprocal value is: 0.07142857142857142\n"
     ]
    }
   ],
   "source": [
    "try:\n",
    "    i=int(input('enter a integer:'))\n",
    "    x=1/i\n",
    "    print('The reciprocal value is:',x)\n",
    "except ZeroDivisionError:\n",
    "    print(\"except ZeroDivisionError block\")\n",
    "    print(\"Reciprocal not found\")"
   ]
  },
  {
   "cell_type": "code",
   "execution_count": null,
   "metadata": {},
   "outputs": [],
   "source": []
  }
 ],
 "metadata": {
  "kernelspec": {
   "display_name": "Python 3",
   "language": "python",
   "name": "python3"
  },
  "language_info": {
   "codemirror_mode": {
    "name": "ipython",
    "version": 3
   },
   "file_extension": ".py",
   "mimetype": "text/x-python",
   "name": "python",
   "nbconvert_exporter": "python",
   "pygments_lexer": "ipython3",
   "version": "3.7.6"
  }
 },
 "nbformat": 4,
 "nbformat_minor": 4
}
